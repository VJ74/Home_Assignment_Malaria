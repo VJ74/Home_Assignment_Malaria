{
 "cells": [
  {
   "cell_type": "markdown",
   "metadata": {},
   "source": [
    "# Opdracht 2 - Convolutional Neural Networks\n",
    "\n",
    "\n",
    "Het doel van deze opdracht is om image recognition te doen aan de hand van Convolutional Neural Networks (CNN). In een eerste deelopdracht ontwerp je een binaire CNN classifier voor het classificeren van foto's van lichaamscellen die al dan niet met malaria geïnfecteerd zijn. \n",
    "\n",
    "In een tweede deelopdracht zal je gezichtsherkenning uitvoeren via een multi-class CNN classifier.\n",
    "\n",
    "In een derde deelopdracht train je een CNN die gezichten van niet-gezichten kan onderscheiden. Met deze classifier kan je vervolgens gezichtsdetectie uitvoeren. Daarbij is het niet de bedoeling om gezichten te herkennen, maar de locatie van al dan niet aanwezig gezichten in afbeeldingen te vinden en aan te duiden.\n",
    "\n",
    "Na deze opdracht zal je vertrouwd zijn met:\n",
    "- Implementeren van convolutional neural networks voor objectherkenning in afbeeldingen.\n",
    "- Hyperparameter tuning van CNN's\n",
    "- Weten hoe je transfer learning kan toepassen voor jouw eigen classificatie taak.\n",
    "- Data/Image augmentation uitvoeren.\n",
    "- Object detectie via een sliding window.\n"
   ]
  },
  {
   "cell_type": "code",
   "execution_count": 59,
   "metadata": {},
   "outputs": [
    {
     "data": {
      "text/html": [
       "<style>.container { width:90% !important; }</style>"
      ],
      "text/plain": [
       "<IPython.core.display.HTML object>"
      ]
     },
     "metadata": {},
     "output_type": "display_data"
    },
    {
     "name": "stdout",
     "output_type": "stream",
     "text": [
      "2.5.0\n"
     ]
    }
   ],
   "source": [
    "%matplotlib inline\n",
    "\n",
    "import os\n",
    "\n",
    "import matplotlib.pyplot as plt\n",
    "import pandas as pd\n",
    "import numpy as np\n",
    "\n",
    "from sklearn.preprocessing import MinMaxScaler\n",
    "from sklearn.preprocessing import StandardScaler\n",
    "from sklearn.metrics import confusion_matrix,accuracy_score\n",
    "from sklearn.model_selection import train_test_split\n",
    "from sklearn.utils import shuffle\n",
    "from sklearn.metrics import classification_report\n",
    "from sklearn.metrics import confusion_matrix, accuracy_score\n",
    "from sklearn.preprocessing import OneHotEncoder\n",
    "from sklearn import preprocessing\n",
    "from sklearn.preprocessing import LabelBinarizer\n",
    "import matplotlib.image as mpimg\n",
    "from skimage.io import imread, imsave, imshow\n",
    "from skimage import data, color, io, filters, morphology,transform, exposure, feature, util\n",
    "from scipy import ndimage\n",
    "import sklearn.metrics as metrics\n",
    "from sklearn.utils import class_weight\n",
    "\n",
    "import tensorflow as tf\n",
    "from tensorflow.keras.models import Sequential\n",
    "from tensorflow.keras.layers import Activation\n",
    "from tensorflow.keras.optimizers import SGD, Adam\n",
    "from tensorflow.keras.layers import Dense, Dropout, Flatten\n",
    "from tensorflow.keras.layers import Conv2D, MaxPooling2D\n",
    "from tensorflow.keras.preprocessing import image\n",
    "from tensorflow.keras.models import Sequential\n",
    "from tensorflow.keras.layers import Dense, Dropout, Activation, BatchNormalization\n",
    "from tensorflow.keras.callbacks import EarlyStopping\n",
    "from tensorflow.keras.applications.vgg19 import VGG19\n",
    "from tensorflow.keras.applications.vgg19 import preprocess_input, decode_predictions\n",
    "from tensorflow.keras.preprocessing.text import Tokenizer\n",
    "from tensorflow.keras.utils import to_categorical, plot_model\n",
    "from tensorflow.keras.callbacks import EarlyStopping, ModelCheckpoint\n",
    "import re\n",
    "\n",
    "#K.set_image_dim_ordering('tf')\n",
    "plt.rcParams['image.cmap'] = 'gray'\n",
    "pd.set_option('display.max_rows',1000)\n",
    "pd.set_option('display.max_columns',1000)\n",
    "\n",
    "from IPython.core.display import display, HTML\n",
    "display(HTML(\"<style>.container { width:90% !important; }</style>\"))\n",
    "\n",
    "print(tf.__version__)\n",
    "if tf.__version__.split('.')[0]!='2':\n",
    "    raise ImportError(\"Need tensorflow 2\")"
   ]
  },
  {
   "cell_type": "markdown",
   "metadata": {},
   "source": [
    "## Malaria Classification\n",
    "\n",
    "Ontwerp en train een CNN dat is in staat is met Malaria geïnfecteerde cellen van niet-geïnfecteerde cellen te onderscheiden.\n",
    "\n",
    "De data is te vinden in:\n",
    "- './Malaria/train/infected/': afbeelding van met Malaria geïnfecteerde cellen om mee te trainen.\n",
    "- './Malaria/train/uninfected/': afbeeldingen van gezonde, niet-geïnfecteerde cellen om mee te trainen.\n",
    "- './Malaria/test/infected/': afbeelding van met Malaria geïnfecteerde cellen om mee te testen.\n",
    "- './Malaria/test/uninfected/': afbeeldingen van gezonde, niet-geïnfecteerde cellen om mee te testen.\n",
    "\n",
    "\n",
    "1. Ontwerp in eerste instantie een eigen CNN. \n",
    "- Probeer de accuracy van het CNN op de test data zo hoog mogelijk te krijgen. Dit kan bijvoorbeeld omvatten: hyperparameter tuning van de het netwerk zelf, early stopping, image augmentation of eigen bedachte (pre)-processing technieken. \n",
    "- Stel nu dat aan het CNN de vereiste wordt gesteld dat het aantal false negatives (het netwerk voorspelt niet-geïnfecteerd terwijl ze wel geïnfecteerd zijn) op de test set maximaal 1% mag bedragen. Welke aanpassingen zou je doen? Voor deze aanpassingen uit en toon aan dat het aantal false negatives tot maximum 1% is gezakt. Welke accuracy haal je nog?\n",
    "\n",
    "2. Voer transfer learning uit. Hertrain het VGG19 netwerk voor het classificeren van de al dan niet met Malaria geïnfecteerde cellen. Vergelijk de resultaten met deze van het eigen CNN in termen van accuraatheid, f1-score, snelheid van training, de benodigde hoeveelheid training data, etc.\n",
    "\n"
   ]
  },
  {
   "cell_type": "markdown",
   "metadata": {},
   "source": [
    "### Eigen CNN"
   ]
  },
  {
   "cell_type": "code",
   "execution_count": 60,
   "metadata": {},
   "outputs": [
    {
     "name": "stdout",
     "output_type": "stream",
     "text": [
      "Read train infected\n",
      " /Users/johanvekeman/Documents/Datasets/Home_Malaria/Malaria/train/infected/ --> 1000 images available\n",
      " /Users/johanvekeman/Documents/Datasets/Home_Malaria/Malaria/test/infected/ --> 1000 images available\n",
      " /Users/johanvekeman/Documents/Datasets/Home_Malaria/Malaria/train/uninfected/ --> 1000 images available\n",
      " /Users/johanvekeman/Documents/Datasets/Home_Malaria/Malaria/test/uninfected/ --> 1000 images available\n"
     ]
    }
   ],
   "source": [
    "# Inlezen van de data\n",
    "\n",
    "# Lezen en preprocessen \n",
    "infected_train_images = []\n",
    "infected_test_images = []\n",
    "uninfected_train_images = []\n",
    "uninfected_test_images = []\n",
    "y_infected_train = []\n",
    "y_uninfected_train = []\n",
    "y_infected_test = []\n",
    "y_uninfected_test =[]\n",
    "\n",
    "# read infected train_images\n",
    "valid_images = [\".jpg\",\".gif\",\".png\"]\n",
    "\n",
    "print(\"Read train infected\")\n",
    "train_infect_path = '/Users/johanvekeman/Documents/Datasets/Home_Malaria/Malaria/train/infected/'\n",
    "train_infect_files = [os.path.join(train_infect_path, f) for f in os.listdir(train_infect_path) if os.path.splitext(f)[1].lower() in valid_images]\n",
    "print(\" %s --> %d images available\"%(train_infect_path, len(train_infect_files)))\n",
    "\n",
    "test_infect_path = '/Users/johanvekeman/Documents/Datasets/Home_Malaria/Malaria/test/infected/'\n",
    "test_infect_files = [os.path.join(test_infect_path, f) for f in os.listdir(test_infect_path) if os.path.splitext(f)[1].lower() in valid_images]\n",
    "print(\" %s --> %d images available\"%(test_infect_path, len(test_infect_files)))\n",
    "\n",
    "train_uninfect_path = '/Users/johanvekeman/Documents/Datasets/Home_Malaria/Malaria/train/uninfected/'\n",
    "train_uninfect_files = [os.path.join(train_uninfect_path, f) for f in os.listdir(train_uninfect_path) if os.path.splitext(f)[1].lower() in valid_images]\n",
    "print(\" %s --> %d images available\"%(train_uninfect_path, len(train_uninfect_files)))\n",
    "\n",
    "test_uninfect_path = '/Users/johanvekeman/Documents/Datasets/Home_Malaria/Malaria/test/uninfected/'\n",
    "test_uninfect_files = [os.path.join(test_uninfect_path, f) for f in os.listdir(test_uninfect_path) if os.path.splitext(f)[1].lower() in valid_images]\n",
    "print(\" %s --> %d images available\"%(test_uninfect_path, len(test_uninfect_files)))\n"
   ]
  },
  {
   "cell_type": "code",
   "execution_count": 61,
   "metadata": {},
   "outputs": [
    {
     "data": {
      "text/html": [
       "<div>\n",
       "<style scoped>\n",
       "    .dataframe tbody tr th:only-of-type {\n",
       "        vertical-align: middle;\n",
       "    }\n",
       "\n",
       "    .dataframe tbody tr th {\n",
       "        vertical-align: top;\n",
       "    }\n",
       "\n",
       "    .dataframe thead th {\n",
       "        text-align: right;\n",
       "    }\n",
       "</style>\n",
       "<table border=\"1\" class=\"dataframe\">\n",
       "  <thead>\n",
       "    <tr style=\"text-align: right;\">\n",
       "      <th></th>\n",
       "      <th>FileName</th>\n",
       "      <th>Test</th>\n",
       "      <th>Infected</th>\n",
       "      <th>Heihgt</th>\n",
       "      <th>Width</th>\n",
       "    </tr>\n",
       "  </thead>\n",
       "  <tbody>\n",
       "    <tr>\n",
       "      <th>0</th>\n",
       "      <td>/Users/johanvekeman/Documents/Datasets/Home_Ma...</td>\n",
       "      <td>0</td>\n",
       "      <td>1</td>\n",
       "      <td>100</td>\n",
       "      <td>100</td>\n",
       "    </tr>\n",
       "    <tr>\n",
       "      <th>1</th>\n",
       "      <td>/Users/johanvekeman/Documents/Datasets/Home_Ma...</td>\n",
       "      <td>0</td>\n",
       "      <td>1</td>\n",
       "      <td>100</td>\n",
       "      <td>100</td>\n",
       "    </tr>\n",
       "    <tr>\n",
       "      <th>2</th>\n",
       "      <td>/Users/johanvekeman/Documents/Datasets/Home_Ma...</td>\n",
       "      <td>0</td>\n",
       "      <td>1</td>\n",
       "      <td>100</td>\n",
       "      <td>100</td>\n",
       "    </tr>\n",
       "    <tr>\n",
       "      <th>3</th>\n",
       "      <td>/Users/johanvekeman/Documents/Datasets/Home_Ma...</td>\n",
       "      <td>0</td>\n",
       "      <td>1</td>\n",
       "      <td>100</td>\n",
       "      <td>100</td>\n",
       "    </tr>\n",
       "    <tr>\n",
       "      <th>4</th>\n",
       "      <td>/Users/johanvekeman/Documents/Datasets/Home_Ma...</td>\n",
       "      <td>0</td>\n",
       "      <td>1</td>\n",
       "      <td>100</td>\n",
       "      <td>100</td>\n",
       "    </tr>\n",
       "  </tbody>\n",
       "</table>\n",
       "</div>"
      ],
      "text/plain": [
       "                                            FileName  Test  Infected  Heihgt  \\\n",
       "0  /Users/johanvekeman/Documents/Datasets/Home_Ma...     0         1     100   \n",
       "1  /Users/johanvekeman/Documents/Datasets/Home_Ma...     0         1     100   \n",
       "2  /Users/johanvekeman/Documents/Datasets/Home_Ma...     0         1     100   \n",
       "3  /Users/johanvekeman/Documents/Datasets/Home_Ma...     0         1     100   \n",
       "4  /Users/johanvekeman/Documents/Datasets/Home_Ma...     0         1     100   \n",
       "\n",
       "   Width  \n",
       "0    100  \n",
       "1    100  \n",
       "2    100  \n",
       "3    100  \n",
       "4    100  "
      ]
     },
     "metadata": {},
     "output_type": "display_data"
    },
    {
     "data": {
      "text/html": [
       "<div>\n",
       "<style scoped>\n",
       "    .dataframe tbody tr th:only-of-type {\n",
       "        vertical-align: middle;\n",
       "    }\n",
       "\n",
       "    .dataframe tbody tr th {\n",
       "        vertical-align: top;\n",
       "    }\n",
       "\n",
       "    .dataframe thead th {\n",
       "        text-align: right;\n",
       "    }\n",
       "</style>\n",
       "<table border=\"1\" class=\"dataframe\">\n",
       "  <thead>\n",
       "    <tr style=\"text-align: right;\">\n",
       "      <th></th>\n",
       "      <th>Test</th>\n",
       "      <th>Infected</th>\n",
       "      <th>Heihgt</th>\n",
       "      <th>Width</th>\n",
       "    </tr>\n",
       "  </thead>\n",
       "  <tbody>\n",
       "    <tr>\n",
       "      <th>count</th>\n",
       "      <td>4000.000000</td>\n",
       "      <td>4000.000000</td>\n",
       "      <td>4000.0</td>\n",
       "      <td>4000.0</td>\n",
       "    </tr>\n",
       "    <tr>\n",
       "      <th>mean</th>\n",
       "      <td>0.500000</td>\n",
       "      <td>0.500000</td>\n",
       "      <td>100.0</td>\n",
       "      <td>100.0</td>\n",
       "    </tr>\n",
       "    <tr>\n",
       "      <th>std</th>\n",
       "      <td>0.500063</td>\n",
       "      <td>0.500063</td>\n",
       "      <td>0.0</td>\n",
       "      <td>0.0</td>\n",
       "    </tr>\n",
       "    <tr>\n",
       "      <th>min</th>\n",
       "      <td>0.000000</td>\n",
       "      <td>0.000000</td>\n",
       "      <td>100.0</td>\n",
       "      <td>100.0</td>\n",
       "    </tr>\n",
       "    <tr>\n",
       "      <th>25%</th>\n",
       "      <td>0.000000</td>\n",
       "      <td>0.000000</td>\n",
       "      <td>100.0</td>\n",
       "      <td>100.0</td>\n",
       "    </tr>\n",
       "    <tr>\n",
       "      <th>50%</th>\n",
       "      <td>0.500000</td>\n",
       "      <td>0.500000</td>\n",
       "      <td>100.0</td>\n",
       "      <td>100.0</td>\n",
       "    </tr>\n",
       "    <tr>\n",
       "      <th>75%</th>\n",
       "      <td>1.000000</td>\n",
       "      <td>1.000000</td>\n",
       "      <td>100.0</td>\n",
       "      <td>100.0</td>\n",
       "    </tr>\n",
       "    <tr>\n",
       "      <th>max</th>\n",
       "      <td>1.000000</td>\n",
       "      <td>1.000000</td>\n",
       "      <td>100.0</td>\n",
       "      <td>100.0</td>\n",
       "    </tr>\n",
       "  </tbody>\n",
       "</table>\n",
       "</div>"
      ],
      "text/plain": [
       "              Test     Infected  Heihgt   Width\n",
       "count  4000.000000  4000.000000  4000.0  4000.0\n",
       "mean      0.500000     0.500000   100.0   100.0\n",
       "std       0.500063     0.500063     0.0     0.0\n",
       "min       0.000000     0.000000   100.0   100.0\n",
       "25%       0.000000     0.000000   100.0   100.0\n",
       "50%       0.500000     0.500000   100.0   100.0\n",
       "75%       1.000000     1.000000   100.0   100.0\n",
       "max       1.000000     1.000000   100.0   100.0"
      ]
     },
     "metadata": {},
     "output_type": "display_data"
    }
   ],
   "source": [
    "d = []\n",
    "for f in train_infect_files:\n",
    "    im = imread(f) \n",
    "    d.append([f, 0, 1, im.shape[0], im.shape[1]])\n",
    "for f in test_infect_files:\n",
    "    im = imread(f) \n",
    "    d.append([f, 1, 1, im.shape[0], im.shape[1]])\n",
    "for f in train_uninfect_files:\n",
    "    im = imread(f) \n",
    "    d.append([f, 0, 0, im.shape[0], im.shape[1]])\n",
    "for f in test_uninfect_files:\n",
    "    im = imread(f) \n",
    "    d.append([f, 1, 0, im.shape[0], im.shape[1]])\n",
    "\n",
    "df = pd.DataFrame(d, columns=[\"FileName\", \"Test\", \"Infected\", \"Heihgt\", \"Width\"])    \n",
    "display(df.head())\n",
    "display(df.describe())\n"
   ]
  },
  {
   "cell_type": "markdown",
   "metadata": {},
   "source": [
    "**Comment:**\n",
    "Keuze van scaleren naar een vierkantige afbeeling lijkt ok. De gemiddelde afbeelding is 103x103 pixels groot. 100x100 is dan ook een goede keuze als gemeenschappelijke resolutie van de beelden. "
   ]
  },
  {
   "cell_type": "code",
   "execution_count": 62,
   "metadata": {},
   "outputs": [
    {
     "data": {
      "text/html": [
       "<div>\n",
       "<style scoped>\n",
       "    .dataframe tbody tr th:only-of-type {\n",
       "        vertical-align: middle;\n",
       "    }\n",
       "\n",
       "    .dataframe tbody tr th {\n",
       "        vertical-align: top;\n",
       "    }\n",
       "\n",
       "    .dataframe thead th {\n",
       "        text-align: right;\n",
       "    }\n",
       "</style>\n",
       "<table border=\"1\" class=\"dataframe\">\n",
       "  <thead>\n",
       "    <tr style=\"text-align: right;\">\n",
       "      <th></th>\n",
       "      <th>FileName</th>\n",
       "      <th>Test</th>\n",
       "      <th>Infected</th>\n",
       "      <th>Heihgt</th>\n",
       "      <th>Width</th>\n",
       "      <th>data</th>\n",
       "    </tr>\n",
       "  </thead>\n",
       "  <tbody>\n",
       "    <tr>\n",
       "      <th>0</th>\n",
       "      <td>/Users/johanvekeman/Documents/Datasets/Home_Ma...</td>\n",
       "      <td>0</td>\n",
       "      <td>1</td>\n",
       "      <td>100</td>\n",
       "      <td>100</td>\n",
       "      <td>[[[0.0, 0.0, 0.0], [0.0, 0.0, 0.0], [0.0, 0.0,...</td>\n",
       "    </tr>\n",
       "    <tr>\n",
       "      <th>1</th>\n",
       "      <td>/Users/johanvekeman/Documents/Datasets/Home_Ma...</td>\n",
       "      <td>0</td>\n",
       "      <td>1</td>\n",
       "      <td>100</td>\n",
       "      <td>100</td>\n",
       "      <td>[[[0.00350112102223339, 0.0, 0.0], [0.00176221...</td>\n",
       "    </tr>\n",
       "    <tr>\n",
       "      <th>2</th>\n",
       "      <td>/Users/johanvekeman/Documents/Datasets/Home_Ma...</td>\n",
       "      <td>0</td>\n",
       "      <td>1</td>\n",
       "      <td>100</td>\n",
       "      <td>100</td>\n",
       "      <td>[[[0.0, 0.0, 0.0], [0.0, 0.0, 0.0], [0.0, 0.0,...</td>\n",
       "    </tr>\n",
       "    <tr>\n",
       "      <th>3</th>\n",
       "      <td>/Users/johanvekeman/Documents/Datasets/Home_Ma...</td>\n",
       "      <td>0</td>\n",
       "      <td>1</td>\n",
       "      <td>100</td>\n",
       "      <td>100</td>\n",
       "      <td>[[[0.0, 0.0035129787921709607, 0.0], [0.0, 0.0...</td>\n",
       "    </tr>\n",
       "    <tr>\n",
       "      <th>4</th>\n",
       "      <td>/Users/johanvekeman/Documents/Datasets/Home_Ma...</td>\n",
       "      <td>0</td>\n",
       "      <td>1</td>\n",
       "      <td>100</td>\n",
       "      <td>100</td>\n",
       "      <td>[[[0.00350112102223339, 0.0, 0.0], [0.00176221...</td>\n",
       "    </tr>\n",
       "  </tbody>\n",
       "</table>\n",
       "</div>"
      ],
      "text/plain": [
       "                                            FileName  Test  Infected  Heihgt  \\\n",
       "0  /Users/johanvekeman/Documents/Datasets/Home_Ma...     0         1     100   \n",
       "1  /Users/johanvekeman/Documents/Datasets/Home_Ma...     0         1     100   \n",
       "2  /Users/johanvekeman/Documents/Datasets/Home_Ma...     0         1     100   \n",
       "3  /Users/johanvekeman/Documents/Datasets/Home_Ma...     0         1     100   \n",
       "4  /Users/johanvekeman/Documents/Datasets/Home_Ma...     0         1     100   \n",
       "\n",
       "   Width                                               data  \n",
       "0    100  [[[0.0, 0.0, 0.0], [0.0, 0.0, 0.0], [0.0, 0.0,...  \n",
       "1    100  [[[0.00350112102223339, 0.0, 0.0], [0.00176221...  \n",
       "2    100  [[[0.0, 0.0, 0.0], [0.0, 0.0, 0.0], [0.0, 0.0,...  \n",
       "3    100  [[[0.0, 0.0035129787921709607, 0.0], [0.0, 0.0...  \n",
       "4    100  [[[0.00350112102223339, 0.0, 0.0], [0.00176221...  "
      ]
     },
     "metadata": {},
     "output_type": "display_data"
    }
   ],
   "source": [
    "image_size      = 50  # hoogte en breedte van de afbeeldingen na resizing. Pas gerust aan.\n",
    "image_size      = 50  \n",
    "grayscale       = False\n",
    "\n",
    "from skimage.color import rgb2gray\n",
    "\n",
    "imgs = []\n",
    "for f in df.FileName:\n",
    "    im = imread(f) \n",
    "    if grayscale:\n",
    "        im = rgb2gray(im)\n",
    "    im = transform.resize(im,(image_size,image_size),mode='constant',anti_aliasing=True)\n",
    "    imgs.append(im)\n",
    "\n",
    "df[\"data\"]=imgs\n",
    "display(df.head())\n",
    "#display(df.describe())\n"
   ]
  },
  {
   "cell_type": "code",
   "execution_count": 63,
   "metadata": {},
   "outputs": [
    {
     "data": {
      "image/png": "[encoded data removed]",
      "text/plain": [
       "<Figure size 864x144 with 10 Axes>"
      ]
     },
     "metadata": {
      "needs_background": "light"
     },
     "output_type": "display_data"
    },
    {
     "data": {
      "image/png": "[encoded data removed]",
      "text/plain": [
       "<Figure size 864x144 with 10 Axes>"
      ]
     },
     "metadata": {
      "needs_background": "light"
     },
     "output_type": "display_data"
    }
   ],
   "source": [
    "# Toon een afbeelding\n",
    "images = df[df[\"Infected\"]==1][\"data\"].iloc[0:10]\n",
    "\n",
    "fig, axs = plt.subplots(1,10, figsize=(12,2))\n",
    "axs[0].set_title(\"Infected\")\n",
    "for img, a in zip(images, axs):\n",
    "    a.imshow(img)\n",
    "    a.set_axis_off()\n",
    "\n",
    "images = df[df[\"Infected\"]==0][\"data\"].iloc[0:10]\n",
    "\n",
    "fig, axs = plt.subplots(1,10, figsize=(12,2))\n",
    "axs[0].set_title(\"Uninfected\")\n",
    "for img, a in zip(images, axs):\n",
    "    a.imshow(img)\n",
    "    a.set_axis_off()"
   ]
  },
  {
   "cell_type": "markdown",
   "metadata": {},
   "source": [
    "**Comment:**\n",
    "Uit de afbeeldingen blijkt dat er wel degelijk een duidelijk (voor een mens) verschil is tussen indected en niet infected."
   ]
  },
  {
   "cell_type": "code",
   "execution_count": 64,
   "metadata": {},
   "outputs": [
    {
     "data": {
      "text/html": [
       "<div>\n",
       "<style scoped>\n",
       "    .dataframe tbody tr th:only-of-type {\n",
       "        vertical-align: middle;\n",
       "    }\n",
       "\n",
       "    .dataframe tbody tr th {\n",
       "        vertical-align: top;\n",
       "    }\n",
       "\n",
       "    .dataframe thead th {\n",
       "        text-align: right;\n",
       "    }\n",
       "</style>\n",
       "<table border=\"1\" class=\"dataframe\">\n",
       "  <thead>\n",
       "    <tr style=\"text-align: right;\">\n",
       "      <th></th>\n",
       "      <th>Test</th>\n",
       "      <th>Infected</th>\n",
       "    </tr>\n",
       "  </thead>\n",
       "  <tbody>\n",
       "    <tr>\n",
       "      <th>count</th>\n",
       "      <td>1000.0</td>\n",
       "      <td>1000.000</td>\n",
       "    </tr>\n",
       "    <tr>\n",
       "      <th>mean</th>\n",
       "      <td>0.0</td>\n",
       "      <td>0.499</td>\n",
       "    </tr>\n",
       "  </tbody>\n",
       "</table>\n",
       "</div>"
      ],
      "text/plain": [
       "         Test  Infected\n",
       "count  1000.0  1000.000\n",
       "mean      0.0     0.499"
      ]
     },
     "metadata": {},
     "output_type": "display_data"
    },
    {
     "data": {
      "text/html": [
       "<div>\n",
       "<style scoped>\n",
       "    .dataframe tbody tr th:only-of-type {\n",
       "        vertical-align: middle;\n",
       "    }\n",
       "\n",
       "    .dataframe tbody tr th {\n",
       "        vertical-align: top;\n",
       "    }\n",
       "\n",
       "    .dataframe thead th {\n",
       "        text-align: right;\n",
       "    }\n",
       "</style>\n",
       "<table border=\"1\" class=\"dataframe\">\n",
       "  <thead>\n",
       "    <tr style=\"text-align: right;\">\n",
       "      <th></th>\n",
       "      <th>Test</th>\n",
       "      <th>Infected</th>\n",
       "    </tr>\n",
       "  </thead>\n",
       "  <tbody>\n",
       "    <tr>\n",
       "      <th>count</th>\n",
       "      <td>2000.0</td>\n",
       "      <td>2000.0</td>\n",
       "    </tr>\n",
       "    <tr>\n",
       "      <th>mean</th>\n",
       "      <td>1.0</td>\n",
       "      <td>0.5</td>\n",
       "    </tr>\n",
       "  </tbody>\n",
       "</table>\n",
       "</div>"
      ],
      "text/plain": [
       "         Test  Infected\n",
       "count  2000.0    2000.0\n",
       "mean      1.0       0.5"
      ]
     },
     "metadata": {},
     "output_type": "display_data"
    }
   ],
   "source": [
    "# Creëer te de test set en training set. Zorg ervoor dat ze gerandomiseerd zijn.\n",
    "\n",
    "nr_train_images = 1000  # Om het aantal afbeelding in de training set te beperken. Verhoog indien jouw systeem het toelaat.\n",
    "#nr_train_images = len(df[df[\"Test\"]==0])\n",
    "nr_test_images  = 50   # Om het aantal afbeelding in de test set in eerste instantie te beperken. \n",
    "nr_test_images  = len(df[df[\"Test\"]==1])\n",
    "\n",
    "try: df.drop([\"Heihgt\", \"Width\"], axis=1, inplace=True) \n",
    "except: pass\n",
    "\n",
    "df_train = df[df[\"Test\"]==0].sample(nr_train_images)\n",
    "df_test  = df[df[\"Test\"]==1].sample(nr_test_images)\n",
    "#display(df_train)\n",
    "\n",
    "display(df_train.describe().loc[[\"count\", \"mean\"]])\n",
    "display(df_test.describe().loc[[\"count\", \"mean\"]])\n"
   ]
  },
  {
   "cell_type": "code",
   "execution_count": 65,
   "metadata": {},
   "outputs": [
    {
     "name": "stdout",
     "output_type": "stream",
     "text": [
      "X train :  (1000, 50, 50, 3)\n",
      "y train :  (1000,)\n",
      "X test  :  (2000, 50, 50, 3)\n",
      "y test  :  (2000,)\n"
     ]
    }
   ],
   "source": [
    "categorical = False\n",
    "\n",
    "X_train = df_train[\"data\"].values\n",
    "y_train = df_train[\"Infected\"].values\n",
    "\n",
    "if categorical:\n",
    "    y_train = to_categorical(y_train)\n",
    "\n",
    "X_test = df_test[\"data\"].values\n",
    "y_test = df_test[\"Infected\"].values\n",
    "\n",
    "#print(X_train[0].reshape(50,50,1).shape)\n",
    "\n",
    "X_train = np.stack(X_train, axis=0)\n",
    "X_test  = np.stack(X_test,  axis=0)\n",
    "\n",
    "if grayscale:\n",
    "    X_train=X_train.reshape(-1,50,50,1)\n",
    "    X_test=X_test.reshape(-1,50,50,1)\n",
    "\n",
    "#print(X_train)\n",
    "\n",
    "print(\"X train : \", X_train.shape)\n",
    "print(\"y train : \", y_train.shape)\n",
    "\n",
    "print(\"X test  : \", X_test.shape)\n",
    "print(\"y test  : \", y_test.shape)\n",
    "\n"
   ]
  },
  {
   "cell_type": "code",
   "execution_count": 66,
   "metadata": {},
   "outputs": [
    {
     "name": "stdout",
     "output_type": "stream",
     "text": [
      "Range of input values :  (0.0, 0.9764672095783427)\n"
     ]
    }
   ],
   "source": [
    "# Normalisatie van de data\n",
    "\n",
    "#check min and max \n",
    "print(\"Range of input values : \", (X_train.min(), X_train.max()))\n"
   ]
  },
  {
   "cell_type": "markdown",
   "metadata": {},
   "source": [
    "**Comment:**\n",
    "De data blijkt al tussen 0 en 1 te liggen. We gaan geen extra scaling meer moeten doen."
   ]
  },
  {
   "cell_type": "code",
   "execution_count": 67,
   "metadata": {},
   "outputs": [],
   "source": [
    "#helper functions \n",
    "\n",
    "# Plot history\n",
    "def histplot(history, name):\n",
    "    fig, axs = plt.subplots(1,2, figsize=(12,6))\n",
    "    print(fig)\n",
    "\n",
    "    axs[0].plot(history.history['loss'],'red',linewidth=3.0, label=\"loss\")\n",
    "    axs[0].plot(history.history['val_loss'],'blue',linewidth=3.0, label=\"val_loss\")\n",
    "    axs[0].legend()\n",
    "    axs[0].set_xlabel('epochs')\n",
    "    axs[0].set_ylabel('Training error')\n",
    "    axs[0].set_ylim((0,1.5))\n",
    "    axs[0].grid()\n",
    "    axs[0].set_title(name)\n",
    "\n",
    "    axs[1].plot(history.history['accuracy'],'red',linewidth=3.0, label=\"accuracy\")\n",
    "    axs[1].plot(history.history['val_accuracy'],'blue',linewidth=3.0, label=\"val_accuracy\")\n",
    "    axs[1].legend()\n",
    "    axs[1].set_xlabel('epochs')\n",
    "    axs[1].set_ylabel('Accuracy')\n",
    "    axs[1].grid()\n",
    "    fig.savefig(name+'.png')\n",
    "\n",
    "\n",
    "def PlotRoc_pos(probs, y_test):\n",
    "    preds = probs[:,1]\n",
    "    fpr, tpr, threshold = metrics.roc_curve(y_test, preds)\n",
    "    roc_auc = metrics.auc(fpr, tpr)\n",
    "\n",
    "    fig, ax = plt.subplots(1,2,figsize=(8,4))\n",
    "    fig.suptitle('Receiver Operating Characteristic Positive class')\n",
    "    \n",
    "    ax[0].plot(fpr, tpr, 'b', label = 'AUC = %0.2f' % roc_auc)\n",
    "    ax[0].legend(loc = 'lower right')\n",
    "    ax[0].plot([0, 1], [0, 1],'r--')\n",
    "    ax[0].set_xlim([0, 1])\n",
    "    ax[0].set_ylim([0, 1])\n",
    "    ax[0].set_ylabel('True Positive Rate')\n",
    "    ax[0].set_xlabel('False Positive Rate')\n",
    "    ax[0].grid()\n",
    "    \n",
    "    ax[1].plot(threshold, fpr, label='fpr')\n",
    "    ax[1].plot(threshold, tpr, label='tpr')\n",
    "    ax[1].legend()\n",
    "    ax[1].grid()\n",
    "    ax[1].set_xlim([0, 1])\n",
    "    ax[1].set_ylim([0, 1])\n",
    "    ax[1].set_ylabel('Rate')\n",
    "    ax[1].set_xlabel('Threshold')\n",
    "    plt.show()\n",
    "    return fpr, tpr, threshold \n",
    "    \n",
    "def PlotRoc_neg(probs, y_test):\n",
    "\n",
    "    preds = probs[:,1]\n",
    "    fnr, tnr, threshold = metrics.roc_curve(y_test, preds, pos_label=0)\n",
    "    roc_auc = metrics.auc(fnr, tnr)\n",
    "\n",
    "    fig, ax = plt.subplots(1,2,figsize=(8,4))\n",
    "    fig.suptitle('Receiver Operating Characteristic Negative class')\n",
    "    \n",
    "    ax[0].plot(fnr, tnr, 'b', label = 'AUC = %0.2f' % roc_auc)\n",
    "    ax[0].legend(loc = 'lower right')\n",
    "    ax[0].plot([0, 1], [0, 1],'r--')\n",
    "    ax[0].set_xlim([0, 1])\n",
    "    ax[0].set_ylim([0, 1])\n",
    "    ax[0].set_ylabel('True Negative Rate')\n",
    "    ax[0].set_xlabel('False Negative Rate')\n",
    "    ax[0].grid()\n",
    "    \n",
    "    ax[1].plot(threshold, fnr, label='fnr')\n",
    "    ax[1].plot(threshold, tnr, label='tnr')\n",
    "    ax[1].legend()\n",
    "    ax[1].grid()\n",
    "    ax[1].set_xlim([0, 1])\n",
    "    ax[1].set_ylim([0, 1])\n",
    "    ax[1].set_ylabel('Rate')\n",
    "    ax[1].set_xlabel('Threshold')\n",
    "    plt.show()\n",
    "    return fnr, tnr, threshold"
   ]
  },
  {
   "cell_type": "code",
   "execution_count": 68,
   "metadata": {
    "scrolled": false
   },
   "outputs": [
    {
     "name": "stdout",
     "output_type": "stream",
     "text": [
      "Model: \"sequential_3\"\n",
      "_________________________________________________________________\n",
      "Layer (type)                 Output Shape              Param #   \n",
      "=================================================================\n",
      "conv2d_9 (Conv2D)            (None, 48, 48, 32)        896       \n",
      "_________________________________________________________________\n",
      "max_pooling2d_9 (MaxPooling2 (None, 24, 24, 32)        0         \n",
      "_________________________________________________________________\n",
      "conv2d_10 (Conv2D)           (None, 22, 22, 64)        18496     \n",
      "_________________________________________________________________\n",
      "max_pooling2d_10 (MaxPooling (None, 11, 11, 64)        0         \n",
      "_________________________________________________________________\n",
      "conv2d_11 (Conv2D)           (None, 9, 9, 128)         73856     \n",
      "_________________________________________________________________\n",
      "max_pooling2d_11 (MaxPooling (None, 4, 4, 128)         0         \n",
      "_________________________________________________________________\n",
      "flatten_3 (Flatten)          (None, 2048)              0         \n",
      "_________________________________________________________________\n",
      "dense_6 (Dense)              (None, 100)               204900    \n",
      "_________________________________________________________________\n",
      "dense_7 (Dense)              (None, 1)                 101       \n",
      "=================================================================\n",
      "Total params: 298,249\n",
      "Trainable params: 298,249\n",
      "Non-trainable params: 0\n",
      "_________________________________________________________________\n"
     ]
    }
   ],
   "source": [
    "# CNN, netwerk structuur\n",
    "\n",
    "input_shape = X_train[0].shape\n",
    "\n",
    "# Model\n",
    "model = Sequential()\n",
    "\n",
    "model.add(Conv2D(32, kernel_size=(3, 3), activation='relu',input_shape=input_shape)) \n",
    "#model.add(Conv2D(32, kernel_size=(3, 3), activation='relu')) \n",
    "model.add(MaxPooling2D(pool_size=(2, 2)))\n",
    "\n",
    "model.add(Conv2D(64, (3, 3), activation='relu')) \n",
    "#model.add(Conv2D(64, (3, 3), activation='relu')) \n",
    "model.add(MaxPooling2D(pool_size=(2, 2)))\n",
    "\n",
    "#added for 100x100 case\n",
    "# model.add(Conv2D(64, (3, 3), activation='relu')) \n",
    "# model.add(MaxPooling2D(pool_size=(2, 2)))\n",
    "\n",
    "model.add(Conv2D(128, (3, 3), activation='relu')) \n",
    "#model.add(Conv2D(128, (3, 3), activation='relu'))\n",
    "model.add(MaxPooling2D(pool_size=(2, 2)))\n",
    "\n",
    "model.add(Flatten()) \n",
    "model.add(Dense(100, activation='relu')) \n",
    "\n",
    "if categorical:\n",
    "    model.add(Dense(2, activation='softmax'))\n",
    "    model.compile(loss='categorical_crossentropy', optimizer=Adam(), metrics=['accuracy'])\n",
    "else:\n",
    "    model.add(Dense(1, activation='sigmoid'))\n",
    "    model.compile(loss='binary_crossentropy', optimizer=Adam(), metrics=['accuracy'])\n",
    "    \n",
    "model.summary()\n",
    "#plot_model(model, 'model.png', show_shapes=True)"
   ]
  },
  {
   "cell_type": "code",
   "execution_count": 69,
   "metadata": {
    "scrolled": true
   },
   "outputs": [
    {
     "name": "stdout",
     "output_type": "stream",
     "text": [
      "Epoch 1/50\n",
      " 4/15 [=======>......................] - ETA: 0s - loss: 0.6958 - accuracy: 0.4883"
     ]
    },
    {
     "name": "stderr",
     "output_type": "stream",
     "text": [
      "2022-02-05 12:06:31.657978: I tensorflow/core/grappler/optimizers/custom_graph_optimizer_registry.cc:112] Plugin optimizer for device_type GPU is enabled.\n"
     ]
    },
    {
     "name": "stdout",
     "output_type": "stream",
     "text": [
      "15/15 [==============================] - 1s 28ms/step - loss: 0.6948 - accuracy: 0.5078 - val_loss: 0.7012 - val_accuracy: 0.4100\n",
      "Epoch 2/50\n",
      " 7/15 [=============>................] - ETA: 0s - loss: 0.6908 - accuracy: 0.5201"
     ]
    },
    {
     "name": "stderr",
     "output_type": "stream",
     "text": [
      "2022-02-05 12:06:32.091218: I tensorflow/core/grappler/optimizers/custom_graph_optimizer_registry.cc:112] Plugin optimizer for device_type GPU is enabled.\n"
     ]
    },
    {
     "name": "stdout",
     "output_type": "stream",
     "text": [
      "15/15 [==============================] - 0s 22ms/step - loss: 0.6875 - accuracy: 0.5367 - val_loss: 0.7083 - val_accuracy: 0.4300\n",
      "Epoch 3/50\n",
      "15/15 [==============================] - 0s 22ms/step - loss: 0.6864 - accuracy: 0.5589 - val_loss: 0.6698 - val_accuracy: 0.6200\n",
      "Epoch 4/50\n",
      "15/15 [==============================] - 0s 22ms/step - loss: 0.6712 - accuracy: 0.5956 - val_loss: 0.7280 - val_accuracy: 0.4500\n",
      "Epoch 5/50\n",
      "15/15 [==============================] - 0s 22ms/step - loss: 0.6503 - accuracy: 0.6278 - val_loss: 0.6995 - val_accuracy: 0.4800\n",
      "Epoch 6/50\n",
      "15/15 [==============================] - 0s 22ms/step - loss: 0.6414 - accuracy: 0.6467 - val_loss: 0.6542 - val_accuracy: 0.6100\n",
      "Epoch 7/50\n",
      "15/15 [==============================] - 0s 22ms/step - loss: 0.6354 - accuracy: 0.6389 - val_loss: 0.6520 - val_accuracy: 0.6100\n",
      "Epoch 8/50\n",
      "15/15 [==============================] - 0s 22ms/step - loss: 0.5988 - accuracy: 0.7000 - val_loss: 0.7351 - val_accuracy: 0.5400\n",
      "Epoch 9/50\n",
      "15/15 [==============================] - 0s 22ms/step - loss: 0.5717 - accuracy: 0.7133 - val_loss: 0.6634 - val_accuracy: 0.6000\n",
      "Epoch 10/50\n",
      "15/15 [==============================] - 0s 22ms/step - loss: 0.5258 - accuracy: 0.7511 - val_loss: 0.6950 - val_accuracy: 0.5800\n",
      "Epoch 11/50\n",
      "15/15 [==============================] - 0s 22ms/step - loss: 0.4722 - accuracy: 0.7944 - val_loss: 0.6831 - val_accuracy: 0.5900\n",
      "Epoch 12/50\n",
      "15/15 [==============================] - 0s 22ms/step - loss: 0.4266 - accuracy: 0.8122 - val_loss: 0.5847 - val_accuracy: 0.6600\n",
      "Epoch 13/50\n",
      "15/15 [==============================] - 0s 22ms/step - loss: 0.4251 - accuracy: 0.7989 - val_loss: 0.4864 - val_accuracy: 0.7800\n",
      "Epoch 14/50\n",
      "15/15 [==============================] - 0s 22ms/step - loss: 0.3646 - accuracy: 0.8589 - val_loss: 0.5036 - val_accuracy: 0.7900\n",
      "Epoch 15/50\n",
      "15/15 [==============================] - 0s 22ms/step - loss: 0.2980 - accuracy: 0.8844 - val_loss: 0.7426 - val_accuracy: 0.6300\n",
      "Epoch 16/50\n",
      "15/15 [==============================] - 0s 22ms/step - loss: 0.2995 - accuracy: 0.8811 - val_loss: 0.5140 - val_accuracy: 0.7600\n",
      "Epoch 17/50\n",
      "15/15 [==============================] - 0s 22ms/step - loss: 0.2492 - accuracy: 0.9056 - val_loss: 0.5114 - val_accuracy: 0.7900\n",
      "Epoch 18/50\n",
      "15/15 [==============================] - 0s 22ms/step - loss: 0.2078 - accuracy: 0.9178 - val_loss: 0.4739 - val_accuracy: 0.8300\n",
      "Epoch 19/50\n",
      "15/15 [==============================] - 0s 22ms/step - loss: 0.1954 - accuracy: 0.9333 - val_loss: 0.5612 - val_accuracy: 0.7800\n",
      "Epoch 20/50\n",
      "15/15 [==============================] - 0s 22ms/step - loss: 0.1504 - accuracy: 0.9489 - val_loss: 0.4842 - val_accuracy: 0.8100\n",
      "Epoch 21/50\n",
      "15/15 [==============================] - 0s 22ms/step - loss: 0.1551 - accuracy: 0.9344 - val_loss: 0.4958 - val_accuracy: 0.8100\n",
      "Epoch 22/50\n",
      "15/15 [==============================] - 0s 22ms/step - loss: 0.1125 - accuracy: 0.9689 - val_loss: 0.4981 - val_accuracy: 0.8300\n",
      "Epoch 23/50\n",
      "15/15 [==============================] - 0s 22ms/step - loss: 0.0892 - accuracy: 0.9789 - val_loss: 0.5314 - val_accuracy: 0.8300\n",
      "Epoch 00023: early stopping\n"
     ]
    }
   ],
   "source": [
    "# Trainen van het CNN\n",
    "\n",
    "batch_size = 64 \n",
    "epochs     = 50\n",
    "\n",
    "# mc = ModelCheckpoint('best_model.h5', monitor='val_accuracy', mode='max', verbose=1, save_best_only=True)\n",
    "es = EarlyStopping(monitor='val_loss', mode='min', verbose=1, patience = 5)\n",
    "\n",
    "history = model.fit(X_train, y_train, batch_size=batch_size, validation_split = 0.1, epochs=epochs, verbose=1,\n",
    "                   callbacks=[es])\n"
   ]
  },
  {
   "cell_type": "code",
   "execution_count": 70,
   "metadata": {},
   "outputs": [
    {
     "name": "stdout",
     "output_type": "stream",
     "text": [
      "Figure(864x432)\n"
     ]
    },
    {
     "data": {
      "image/png": "[encoded data removed]",
      "text/plain": [
       "<Figure size 864x432 with 2 Axes>"
      ]
     },
     "metadata": {
      "needs_background": "light"
     },
     "output_type": "display_data"
    }
   ],
   "source": [
    "\n",
    "histplot(history, \"First test model (50x50)\")    "
   ]
  },
  {
   "cell_type": "code",
   "execution_count": 71,
   "metadata": {},
   "outputs": [],
   "source": [
    "# model.load_weights('best_model.h5')"
   ]
  },
  {
   "cell_type": "code",
   "execution_count": 76,
   "metadata": {},
   "outputs": [
    {
     "name": "stderr",
     "output_type": "stream",
     "text": [
      "/opt/homebrew/Caskroom/miniforge/base/envs/tensorflow/lib/python3.9/site-packages/tensorflow/python/keras/engine/sequential.py:455: UserWarning: `model.predict_classes()` is deprecated and will be removed after 2021-01-01. Please use instead:* `np.argmax(model.predict(x), axis=-1)`,   if your model does multi-class classification   (e.g. if it uses a `softmax` last-layer activation).* `(model.predict(x) > 0.5).astype(\"int32\")`,   if your model does binary classification   (e.g. if it uses a `sigmoid` last-layer activation).\n",
      "  warnings.warn('`model.predict_classes()` is deprecated and '\n"
     ]
    },
    {
     "name": "stdout",
     "output_type": "stream",
     "text": [
      "Accuracy score : 89.0\n",
      "\n",
      "              precision    recall  f1-score   support\n",
      "\n",
      "           0       0.86      0.94      0.90      1000\n",
      "           1       0.93      0.84      0.88      1000\n",
      "\n",
      "    accuracy                           0.89      2000\n",
      "   macro avg       0.89      0.89      0.89      2000\n",
      "weighted avg       0.89      0.89      0.89      2000\n",
      "\n",
      "Confusion matrix : \n",
      "[[940  60]\n",
      " [159 841]]\n"
     ]
    }
   ],
   "source": [
    "# Testen van het neuraal netwerk op de test set. Kijk naar de accuracy, recall, precision, f1-score en de ROC \n",
    "y_pred = model.predict_classes(X_test)\n",
    "\n",
    "print(\"Accuracy score : %.1f\"%(accuracy_score(y_test, y_pred) * 100)) \n",
    "print()\n",
    "print(classification_report(y_test, y_pred))\n",
    "cf = confusion_matrix(y_test, y_pred)\n",
    "print(\"Confusion matrix : \")\n",
    "print(cf)\n"
   ]
  },
  {
   "cell_type": "code",
   "execution_count": 78,
   "metadata": {},
   "outputs": [],
   "source": [
    "model.save('/Users/johanvekeman/Documents/Datasets/Home_Malaria/Malaria_model.h5')\n"
   ]
  },
  {
   "cell_type": "markdown",
   "metadata": {},
   "source": []
  }
 ],
 "metadata": {
  "kernelspec": {
   "display_name": "Python 3 (ipykernel)",
   "language": "python",
   "name": "python3"
  },
  "language_info": {
   "codemirror_mode": {
    "name": "ipython",
    "version": 3
   },
   "file_extension": ".py",
   "mimetype": "text/x-python",
   "name": "python",
   "nbconvert_exporter": "python",
   "pygments_lexer": "ipython3",
   "version": "3.9.7"
  }
 },
 "nbformat": 4,
 "nbformat_minor": 2
}
