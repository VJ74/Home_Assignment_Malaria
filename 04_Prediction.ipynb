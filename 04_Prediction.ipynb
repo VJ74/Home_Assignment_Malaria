{
 "cells": [
  {
   "cell_type": "code",
   "execution_count": 78,
   "id": "1e880677",
   "metadata": {},
   "outputs": [],
   "source": [
    "import numpy as np\n",
    "from pydub import AudioSegment \n",
    "from pydub.utils import make_chunks\n",
    "import librosa  \n",
    "import os\n",
    "import tensorflow as tf\n",
    "import matplotlib.pyplot as plt\n",
    "import librosa.display"
   ]
  },
  {
   "cell_type": "code",
   "execution_count": 79,
   "id": "95ffe216",
   "metadata": {},
   "outputs": [],
   "source": [
    "# Load registered model\n",
    "\n",
    "load_model=tf.keras.models.load_model('my_model.h5')"
   ]
  },
  {
   "cell_type": "code",
   "execution_count": 80,
   "id": "3fc823af",
   "metadata": {},
   "outputs": [],
   "source": [
    "# Predict if a weld defect occurred or not, based on an audio file of 1s in length\n",
    "\n",
    "def predict_audio_file(file_path):\n",
    "    audio_file = os.listdir(file_path)\n",
    "    audio, sr = librosa.load(file_path + '/' + audio_file[0], 22000)\n",
    "    Spectrogram=librosa.feature.melspectrogram(audio)\n",
    "    # The input shape for a CNN in Tensorflow should be in the format (batch, height, width, channels).\n",
    "    Spectrogram=Spectrogram.reshape(1, Spectrogram.shape[0],Spectrogram.shape[1], 1)\n",
    "    prediction = np.argmax(load_model.predict(Spectrogram), axis=-1)\n",
    "    index=prediction[0]\n",
    "    labels = ['This is a sound weld', 'This weld contains a defect']\n",
    "    return {'Prediction': labels[index]}"
   ]
  },
  {
   "cell_type": "code",
   "execution_count": 81,
   "id": "9ac2fa9a",
   "metadata": {},
   "outputs": [],
   "source": [
    "file_path=\"/Users/johanvekeman/Documents/Datasets/Home_Assignment/Predict_1\""
   ]
  },
  {
   "cell_type": "code",
   "execution_count": 82,
   "id": "0c23fc07",
   "metadata": {},
   "outputs": [
    {
     "name": "stdout",
     "output_type": "stream",
     "text": [
      "{'Prediction': 'This weld contains a defect'}\n"
     ]
    },
    {
     "name": "stderr",
     "output_type": "stream",
     "text": [
      "2022-02-04 17:34:06.655063: I tensorflow/core/grappler/optimizers/custom_graph_optimizer_registry.cc:112] Plugin optimizer for device_type GPU is enabled.\n"
     ]
    }
   ],
   "source": [
    "print(predict_audio_file(file_path))"
   ]
  },
  {
   "cell_type": "code",
   "execution_count": null,
   "id": "b0e372a5",
   "metadata": {},
   "outputs": [],
   "source": []
  }
 ],
 "metadata": {
  "kernelspec": {
   "display_name": "Python 3.9 (tensorflow)",
   "language": "python",
   "name": "tensorflow"
  },
  "language_info": {
   "codemirror_mode": {
    "name": "ipython",
    "version": 3
   },
   "file_extension": ".py",
   "mimetype": "text/x-python",
   "name": "python",
   "nbconvert_exporter": "python",
   "pygments_lexer": "ipython3",
   "version": "3.9.7"
  }
 },
 "nbformat": 4,
 "nbformat_minor": 5
}
